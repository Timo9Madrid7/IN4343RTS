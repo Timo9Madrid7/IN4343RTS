{
 "cells": [
  {
   "cell_type": "code",
   "execution_count": 1,
   "metadata": {},
   "outputs": [],
   "source": [
    "import numpy as np"
   ]
  },
  {
   "cell_type": "markdown",
   "metadata": {},
   "source": [
    "# Rate Monotonic (RM)\n",
    "\n",
    "- Upper Bound (necessary condition):\n",
    "    - UB: $U_p = \\Sigma_{i}^{n}\\frac{C_i}{T_i} \\leq 1$\n",
    "\n",
    "- lower Bound (sufficient conditions):\n",
    "   - HB: $U_p = \\prod_{i}^{n}(U_i+1) \\leq 2$\n",
    "   - LL: $U_p = \\Sigma_{i}^{n}U_i \\leq n(2^{1/n}-1)$"
   ]
  },
  {
   "cell_type": "code",
   "execution_count": 2,
   "metadata": {},
   "outputs": [],
   "source": [
    "class RM:\n",
    "    def __init__(self, T, C):\n",
    "        assert len(T) == len(C)\n",
    "        self.T = T \n",
    "        self.C = C\n",
    "        self.n = len(T)\n",
    "        \n",
    "    def testUB(self):\n",
    "        up = np.sum(C/T)\n",
    "        return up <= 1, up\n",
    "    \n",
    "    def testHB(self):\n",
    "        up = 1\n",
    "        for i in range(self.n):\n",
    "            up = up*(C[i]/T[i]+1)\n",
    "        return up <= 2, up\n",
    "    \n",
    "    def testLL(self):\n",
    "        up = np.sum(C/T)\n",
    "        return up <= self.n*(2**(1/self.n)-1), self.n*(2**(1/self.n)-1)\n",
    "    \n",
    "    def testFeasible(self):\n",
    "        nec, util = self.testUB()\n",
    "        suf, cal = self.testHB()\n",
    "        print(\"...\")\n",
    "        if(not nec):\n",
    "            print(\"It is infeasible to be scheduled by RM\")\n",
    "            print(\"The utilization is \", util, \" >= 1\")\n",
    "        else:\n",
    "            if(suf):\n",
    "                print(\"It can be scheduled by RM\")\n",
    "                print(\"HB is \", cal, \" <= 2\")\n",
    "            else:\n",
    "                print(\"It might be schedulable\")\n",
    "        print()\n",
    "        "
   ]
  },
  {
   "cell_type": "markdown",
   "metadata": {},
   "source": [
    "## Example"
   ]
  },
  {
   "cell_type": "code",
   "execution_count": 3,
   "metadata": {},
   "outputs": [
    {
     "name": "stdout",
     "output_type": "stream",
     "text": [
      "...\n",
      "It can be scheduled by RM\n",
      "HB is  1.9800000000000002  <= 2\n",
      "\n"
     ]
    }
   ],
   "source": [
    "# example 1\n",
    "T = np.array([5,8,10])\n",
    "C = np.array([3,1,1])\n",
    "set1 = RM(T, C)\n",
    "set1.testFeasible()"
   ]
  },
  {
   "cell_type": "code",
   "execution_count": 4,
   "metadata": {},
   "outputs": [
    {
     "name": "stdout",
     "output_type": "stream",
     "text": [
      "...\n",
      "It might be schedulable\n",
      "\n"
     ]
    }
   ],
   "source": [
    "# example 2\n",
    "T = np.array([4,6,10])\n",
    "C = np.array([1,2,3])\n",
    "set2 = RM(T, C)\n",
    "set2.testFeasible()"
   ]
  },
  {
   "cell_type": "code",
   "execution_count": 5,
   "metadata": {},
   "outputs": [
    {
     "name": "stdout",
     "output_type": "stream",
     "text": [
      "False\n",
      "...\n",
      "It can be scheduled by RM\n",
      "HB is  1.8900000000000001  <= 2\n",
      "\n",
      "False\n",
      "...\n",
      "It might be schedulable\n",
      "\n"
     ]
    }
   ],
   "source": [
    "# more examples\n",
    "T = np.array([10, 18])\n",
    "C = np.array([8, 0.9])\n",
    "set3 = RM(T, C)\n",
    "flag, _ = set3.testLL()\n",
    "print(flag) # it did not pass LL test\n",
    "set3.testFeasible()\n",
    "\n",
    "T = np.array([5, 10])\n",
    "C = np.array([3, 4])\n",
    "set4 = RM(T, C)\n",
    "flag, _ = set4.testLL()\n",
    "print(flag) # it did not pass LL test\n",
    "set4.testFeasible()"
   ]
  },
  {
   "cell_type": "markdown",
   "metadata": {},
   "source": [
    "## Your test here"
   ]
  },
  {
   "cell_type": "code",
   "execution_count": null,
   "metadata": {},
   "outputs": [],
   "source": []
  },
  {
   "cell_type": "markdown",
   "metadata": {},
   "source": [
    "# Deadline Monotonic (DM)\n",
    "\n",
    "- Response Time Analysis (RTA): RTA is an exact test (sufficient and necessary)\n",
    "\n",
    "- WCRT = the maximum response time among all jobs of the task"
   ]
  },
  {
   "cell_type": "code",
   "execution_count": 12,
   "metadata": {},
   "outputs": [],
   "source": [
    "class DM:\n",
    "    def __init__(self, T, C, D):\n",
    "        assert len(T) == len(C)\n",
    "        assert len(T) == len(D)\n",
    "        self.T = T\n",
    "        self.C = C \n",
    "        self.D = D\n",
    "        self.n = len(C)\n",
    "        \n",
    "    def DM_guarantee(self):\n",
    "        \n",
    "        for i in range(self.n):\n",
    "            print(\"--start to test Task[\"+str(i+1)+']--')\n",
    "            r = 0\n",
    "            temp = C[i]\n",
    "            Ri = C[i]\n",
    "            print('R'+str(i)+\"_\"+str(r), '=' , C[i])\n",
    "            \n",
    "            while(1):\n",
    "                Ii = 0\n",
    "                for j in range(i):\n",
    "                    Ii += np.ceil(Ri/T[j])*C[j]\n",
    "                Ri = C[i] + Ii\n",
    "                r += 1\n",
    "                print('R'+str(i)+\"_\"+str(r), '=' , Ri)\n",
    "                if(Ri > D[i]):\n",
    "                    flag = False\n",
    "                    break\n",
    "                if(Ri != temp):\n",
    "                    temp = Ri\n",
    "                else:\n",
    "                    flag = True\n",
    "                    break\n",
    "                    \n",
    "            if(flag):\n",
    "                if(i == self.n-1):\n",
    "                    print()\n",
    "                    print(\"It is shceduable\")\n",
    "            else:\n",
    "                print()\n",
    "                print('R'+str(i)+\"_\"+str(r)+ \" = \" + str(Ri), \">\", \"D[i]=\"+str(D[i]))\n",
    "                print(\"It is not shceduable\")\n",
    "            \n",
    "            print()\n",
    "            "
   ]
  },
  {
   "cell_type": "markdown",
   "metadata": {},
   "source": [
    "## Example"
   ]
  },
  {
   "cell_type": "code",
   "execution_count": 13,
   "metadata": {},
   "outputs": [
    {
     "name": "stdout",
     "output_type": "stream",
     "text": [
      "--start to test Task[1]--\n",
      "R0_0 = 2\n",
      "R0_1 = 2\n",
      "\n",
      "--start to test Task[2]--\n",
      "R1_0 = 4\n",
      "R1_1 = 6.0\n",
      "R1_2 = 8.0\n",
      "R1_3 = 8.0\n",
      "\n",
      "--start to test Task[3]--\n",
      "R2_0 = 1\n",
      "R2_1 = 7.0\n",
      "R2_2 = 9.0\n",
      "R2_3 = 9.0\n",
      "\n",
      "It is shceduable\n",
      "\n"
     ]
    }
   ],
   "source": [
    "T = np.array([5, 10, 25])\n",
    "C = np.array([2, 4, 1])\n",
    "D = np.array([5, 10, 25])\n",
    "set1 = DM(T, C, D)\n",
    "set1.DM_guarantee()"
   ]
  },
  {
   "cell_type": "markdown",
   "metadata": {},
   "source": [
    "## Example(not shceduable)"
   ]
  },
  {
   "cell_type": "code",
   "execution_count": 14,
   "metadata": {},
   "outputs": [
    {
     "name": "stdout",
     "output_type": "stream",
     "text": [
      "--start to test Task[1]--\n",
      "R0_0 = 1\n",
      "R0_1 = 1\n",
      "\n",
      "--start to test Task[2]--\n",
      "R1_0 = 2\n",
      "R1_1 = 3.0\n",
      "R1_2 = 3.0\n",
      "\n",
      "--start to test Task[3]--\n",
      "R2_0 = 3\n",
      "R2_1 = 6.0\n",
      "R2_2 = 7.0\n",
      "R2_3 = 9.0\n",
      "\n",
      "R2_3 = 9.0 > D[i]=8\n",
      "It is not shceduable\n",
      "\n"
     ]
    }
   ],
   "source": [
    "T = np.array([4, 6, 8])\n",
    "C = np.array([1, 2, 3])\n",
    "D = np.array([4, 6, 8])\n",
    "set2 = DM(T, C, D)\n",
    "set2.DM_guarantee()"
   ]
  },
  {
   "cell_type": "markdown",
   "metadata": {},
   "source": [
    "## Your test here"
   ]
  },
  {
   "cell_type": "code",
   "execution_count": null,
   "metadata": {},
   "outputs": [],
   "source": []
  },
  {
   "cell_type": "markdown",
   "metadata": {},
   "source": [
    "# Earliest Deadline First (EDF)\n",
    "\n",
    "- In any interval [$t_1$, $t_2$] the computational demand $g(t_1, t_2)$ of \n",
    "the task set must be no greater than the available time:\n",
    "$$g(t_1,t_2) \\leq (t_2-t_1)$$\n",
    "- When tasks are activated simultaneously, we can rewrite this as:\n",
    "$$g(0,L) \\leq L, \\ \\forall L>0$$\n",
    "- We can further limit the checkpoints by using a refined function \n",
    "that upper-bounds g\n",
    "- We only need to check values up to L*\n",
    "- Check only when we have a task deadline"
   ]
  },
  {
   "cell_type": "code",
   "execution_count": 8,
   "metadata": {},
   "outputs": [],
   "source": [
    "class EDF:\n",
    "    def __init__(self, T, C, D):\n",
    "        assert len(T) == len(C)\n",
    "        assert len(T) == len(D)\n",
    "        self.T = T \n",
    "        self.C = C \n",
    "        self.D = D \n",
    "        self.n = len(T) \n",
    "    \n",
    "    def getL(self):\n",
    "        if(1-np.sum(C/T) == 0):\n",
    "            L_star = np.inf\n",
    "        else:\n",
    "            temp = 0\n",
    "            for i in range(self.n):\n",
    "                temp += (T[i]-D[i])*(C[i]/T[i])\n",
    "            L_star = temp/(1-np.sum(C/T))\n",
    "        \n",
    "        H = T[0]\n",
    "        for i in range(1, self.n):\n",
    "            H = np.lcm(H, T[i])\n",
    "            \n",
    "        return np.min([H, np.max([np.max(D), L_star])])\n",
    "    \n",
    "    def EDF_guarantee(self):\n",
    "        \n",
    "        L = self.getL()\n",
    "        checkPoint = []\n",
    "        for i in range(self.n):\n",
    "            ddl = D[i]\n",
    "            r = 0\n",
    "            while(ddl < L):\n",
    "                checkPoint.append(ddl)\n",
    "                r += 1\n",
    "                ddl = r * T[i] + D[i]\n",
    "        checkPoint = np.sort(list(set(checkPoint)))\n",
    "        print(\"The checking positions:\", checkPoint)\n",
    "        print()\n",
    "        \n",
    "        for l in checkPoint:\n",
    "            g_0l = 0\n",
    "            for i in range(self.n):\n",
    "                g_0l += np.floor((l+T[i]-D[i])/T[i])*C[i]\n",
    "            if(g_0l<=l):\n",
    "                print(\"g(0,\"+str(l)+')', \"demand=\"+str(g_0l), \"Pass\")\n",
    "            else:\n",
    "                print(\"g(0,\"+str(l)+')', \"demand=\"+str(g_0l), \"Fail\")\n",
    "                break\n",
    "        "
   ]
  },
  {
   "cell_type": "markdown",
   "metadata": {},
   "source": [
    "## Example"
   ]
  },
  {
   "cell_type": "code",
   "execution_count": 9,
   "metadata": {},
   "outputs": [
    {
     "name": "stdout",
     "output_type": "stream",
     "text": [
      "The checking positions: [ 2.5  5.   7.5  8.  12.  12.5]\n",
      "\n",
      "g(0,2.5) demand=2.0 Pass\n",
      "g(0,5.0) demand=4.0 Pass\n",
      "g(0,7.5) demand=6.0 Pass\n",
      "g(0,8.0) demand=8.0 Pass\n",
      "g(0,12.0) demand=10.0 Pass\n",
      "g(0,12.5) demand=12.0 Pass\n"
     ]
    }
   ],
   "source": [
    "# example 1\n",
    "T = np.array([5, 7, 10])\n",
    "C = np.array([2, 2, 2])\n",
    "D = np.array([2.5, 5, 8])\n",
    "\n",
    "set1 = EDF(T, C, D)\n",
    "set1.EDF_guarantee()"
   ]
  },
  {
   "cell_type": "code",
   "execution_count": 10,
   "metadata": {},
   "outputs": [
    {
     "name": "stdout",
     "output_type": "stream",
     "text": [
      "The checking positions: [ 4  5  7 10 13 16 21 22]\n",
      "\n",
      "g(0,4) demand=2.0 Pass\n",
      "g(0,5) demand=4.0 Pass\n",
      "g(0,7) demand=7.0 Pass\n",
      "g(0,10) demand=9.0 Pass\n",
      "g(0,13) demand=11.0 Pass\n",
      "g(0,16) demand=16.0 Pass\n",
      "g(0,21) demand=18.0 Pass\n",
      "g(0,22) demand=20.0 Pass\n"
     ]
    }
   ],
   "source": [
    "# example 2\n",
    "T = np.array([6, 8, 9])\n",
    "C = np.array([2, 2, 3])\n",
    "D = np.array([4, 5, 7])\n",
    "\n",
    "set2 = EDF(T, C, D)\n",
    "set2.EDF_guarantee()"
   ]
  },
  {
   "cell_type": "markdown",
   "metadata": {},
   "source": [
    "## Your test here"
   ]
  },
  {
   "cell_type": "code",
   "execution_count": null,
   "metadata": {},
   "outputs": [],
   "source": []
  },
  {
   "cell_type": "markdown",
   "metadata": {},
   "source": [
    "# RM(DM) vs EDF\n",
    "\n",
    "-  RM is easier to implement as it suffices to have a kernel that can handle fixed priorities.\n",
    "- EDF presumes more sophisticated priority-handling, but induces fewer preemptions and fewer context switches.\n",
    "- EDF achieves higher utilization (up to 1). RM achieves smaller  utilization unless special conditions hold.\n",
    "- EDF is able to handle overloads in a more predictable way.\n",
    "---\n",
    "- RM under permanent overload:\n",
    "    - High priority tasks are executed at the necessary rate;\n",
    "    - Low priority tasks are blocked.\n",
    "- EDF under permanent overload:\n",
    "    - All tasks are executed at a slower rate;\n",
    "    - No task is blocked."
   ]
  }
 ],
 "metadata": {
  "kernelspec": {
   "display_name": "Python 3",
   "language": "python",
   "name": "python3"
  },
  "language_info": {
   "codemirror_mode": {
    "name": "ipython",
    "version": 3
   },
   "file_extension": ".py",
   "mimetype": "text/x-python",
   "name": "python",
   "nbconvert_exporter": "python",
   "pygments_lexer": "ipython3",
   "version": "3.7.6"
  },
  "toc": {
   "base_numbering": 1,
   "nav_menu": {},
   "number_sections": true,
   "sideBar": true,
   "skip_h1_title": false,
   "title_cell": "Table of Contents",
   "title_sidebar": "Contents",
   "toc_cell": false,
   "toc_position": {},
   "toc_section_display": true,
   "toc_window_display": false
  },
  "varInspector": {
   "cols": {
    "lenName": 16,
    "lenType": 16,
    "lenVar": 40
   },
   "kernels_config": {
    "python": {
     "delete_cmd_postfix": "",
     "delete_cmd_prefix": "del ",
     "library": "var_list.py",
     "varRefreshCmd": "print(var_dic_list())"
    },
    "r": {
     "delete_cmd_postfix": ") ",
     "delete_cmd_prefix": "rm(",
     "library": "var_list.r",
     "varRefreshCmd": "cat(var_dic_list()) "
    }
   },
   "types_to_exclude": [
    "module",
    "function",
    "builtin_function_or_method",
    "instance",
    "_Feature"
   ],
   "window_display": false
  }
 },
 "nbformat": 4,
 "nbformat_minor": 5
}
