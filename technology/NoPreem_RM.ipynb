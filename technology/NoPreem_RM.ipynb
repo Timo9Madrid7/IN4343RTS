{
 "cells": [
  {
   "cell_type": "code",
   "execution_count": 1,
   "id": "7e946627",
   "metadata": {},
   "outputs": [],
   "source": [
    "import numpy as np"
   ]
  },
  {
   "cell_type": "markdown",
   "id": "68cfcd68",
   "metadata": {},
   "source": [
    "# No-Preemptive RM"
   ]
  },
  {
   "cell_type": "code",
   "execution_count": 2,
   "id": "5baea7c0",
   "metadata": {},
   "outputs": [],
   "source": [
    "class NoPremRM:\n",
    "    \n",
    "    def __init__(self, T, C):\n",
    "        assert len(T) == len(C)\n",
    "        self.T = T \n",
    "        self.C = C\n",
    "        self.n = len(T)\n",
    "        self.Bi = np.zeros(self.n)\n",
    "        self.K = np.zeros(self.n)\n",
    "    \n",
    "    def Leveli(self):\n",
    "        n = self.n \n",
    "        print(\"Task\\t\\t\", \"Blcking\\t\", \"Level-i busy\\t\", \"Number\")\n",
    "        for i in range(n):\n",
    "            if(i != n-1):\n",
    "                Bi = np.max(C[i+1:]-1)\n",
    "            else:\n",
    "                Bi = 0\n",
    "            Li = Bi + C[i]\n",
    "            temp = 0\n",
    "            while(1):\n",
    "                Li = Bi + np.sum(np.ceil(Li/T[:i+1])*C[:i+1])\n",
    "                if temp != Li:\n",
    "                    temp = Li\n",
    "                else:\n",
    "                    print(str(i+1)+\"\\t\\t\", str(Bi)+\"\\t\\t\", str(Li)+\"\\t\\t\", str(np.ceil(Li/T[i])))\n",
    "                    self.Bi[i] = Bi\n",
    "                    self.K[i] = np.ceil(Li/T[i])\n",
    "                    break\n",
    "                    \n",
    "    def ResponseTime(self):\n",
    "        n = self.n\n",
    "        Bi = self.Bi\n",
    "        K = self.K\n",
    "        \n",
    "        print(\"-Task[\"+str(1)+\"] Start-\")\n",
    "        print(\"s\"+str(1)+\",\"+str(1), '=', Bi[0])\n",
    "        print(\"f\"+str(1)+\",\"+str(1), '=', Bi[0]+C[0])\n",
    "        print(\"WCRT = \", Bi[0]+C[0])\n",
    "        print(\"_______-------_______\")\n",
    "        print()\n",
    "        \n",
    "        for i in range(1, n):\n",
    "            R_max = 0\n",
    "            print(\"-Task[\"+str(i+1)+\"] Start-\")\n",
    "            \n",
    "            for j in range(int(K[i])):\n",
    "                print(\"--k=\"+str(j+1)+\" Start--\")\n",
    "                s = Bi[i] + j*C[i] + np.sum(C[:i])\n",
    "                temp = s\n",
    "                r = 0\n",
    "                print(\"s\"+str(i+1)+\",\"+str(j+1)+\"_(\"+str(r)+\")\", '=', s)\n",
    "                \n",
    "                while(1):\n",
    "                    r += 1\n",
    "                    s = Bi[i] + j*C[i] + np.sum((np.floor(s/T[:i])+1)*C[:i])\n",
    "                    print('s'+str(i+1)+\",\"+str(j+1)+\"_(\"+str(r)+\")\", '=', s)\n",
    "                    if(temp != s):\n",
    "                        temp = s\n",
    "                    else:\n",
    "                        f = s + C[i]\n",
    "                        R = f - j*T[i]\n",
    "                        if(R > R_max):\n",
    "                            R_max = R \n",
    "                        print('f'+str(i+1)+\",\"+str(j+1), '=', f) \n",
    "                        print('Rtemp'+str(i+1)+\",\"+str(j+1), '=', R)\n",
    "                        print()\n",
    "                        break\n",
    "                        \n",
    "            print(\"WCRT = \", R_max)\n",
    "            print(\"_______-------_______\")\n",
    "            print()\n",
    "            "
   ]
  },
  {
   "cell_type": "markdown",
   "id": "ef46550c",
   "metadata": {},
   "source": [
    "# Example"
   ]
  },
  {
   "cell_type": "code",
   "execution_count": 3,
   "id": "0a546cae",
   "metadata": {},
   "outputs": [
    {
     "name": "stdout",
     "output_type": "stream",
     "text": [
      "Task\t\t Blcking\t Level-i busy\t Number\n",
      "1\t\t 3\t\t 6.0\t\t 1.0\n",
      "2\t\t 3\t\t 17.0\t\t 2.0\n",
      "3\t\t 0\t\t 36.0\t\t 3.0\n"
     ]
    }
   ],
   "source": [
    "#20160407Q5\n",
    "T = np.array([9, 12, 15])\n",
    "C = np.array([3, 4, 4])\n",
    "\n",
    "set1 = NoPremRM(T, C)\n",
    "set1.Leveli()"
   ]
  },
  {
   "cell_type": "code",
   "execution_count": 4,
   "id": "e2b8edd4",
   "metadata": {},
   "outputs": [
    {
     "name": "stdout",
     "output_type": "stream",
     "text": [
      "-Task[1] Start-\n",
      "s1,1 = 3.0\n",
      "f1,1 = 6.0\n",
      "WCRT =  6.0\n",
      "_______-------_______\n",
      "\n",
      "-Task[2] Start-\n",
      "--k=1 Start--\n",
      "s2,1_(0) = 6.0\n",
      "s2,1_(1) = 6.0\n",
      "f2,1 = 10.0\n",
      "Rtemp2,1 = 10.0\n",
      "\n",
      "--k=2 Start--\n",
      "s2,2_(0) = 10.0\n",
      "s2,2_(1) = 13.0\n",
      "s2,2_(2) = 13.0\n",
      "f2,2 = 17.0\n",
      "Rtemp2,2 = 5.0\n",
      "\n",
      "WCRT =  10.0\n",
      "_______-------_______\n",
      "\n",
      "-Task[3] Start-\n",
      "--k=1 Start--\n",
      "s3,1_(0) = 7.0\n",
      "s3,1_(1) = 7.0\n",
      "f3,1 = 11.0\n",
      "Rtemp3,1 = 11.0\n",
      "\n",
      "--k=2 Start--\n",
      "s3,2_(0) = 11.0\n",
      "s3,2_(1) = 14.0\n",
      "s3,2_(2) = 18.0\n",
      "s3,2_(3) = 21.0\n",
      "s3,2_(4) = 21.0\n",
      "f3,2 = 25.0\n",
      "Rtemp3,2 = 10.0\n",
      "\n",
      "--k=3 Start--\n",
      "s3,3_(0) = 15.0\n",
      "s3,3_(1) = 22.0\n",
      "s3,3_(2) = 25.0\n",
      "s3,3_(3) = 29.0\n",
      "s3,3_(4) = 32.0\n",
      "s3,3_(5) = 32.0\n",
      "f3,3 = 36.0\n",
      "Rtemp3,3 = 6.0\n",
      "\n",
      "WCRT =  11.0\n",
      "_______-------_______\n",
      "\n"
     ]
    }
   ],
   "source": [
    "set1.ResponseTime()"
   ]
  },
  {
   "cell_type": "code",
   "execution_count": null,
   "id": "e8af69c9",
   "metadata": {},
   "outputs": [],
   "source": []
  }
 ],
 "metadata": {
  "kernelspec": {
   "display_name": "Python 3",
   "language": "python",
   "name": "python3"
  },
  "language_info": {
   "codemirror_mode": {
    "name": "ipython",
    "version": 3
   },
   "file_extension": ".py",
   "mimetype": "text/x-python",
   "name": "python",
   "nbconvert_exporter": "python",
   "pygments_lexer": "ipython3",
   "version": "3.8.8"
  },
  "toc": {
   "base_numbering": 1,
   "nav_menu": {},
   "number_sections": true,
   "sideBar": true,
   "skip_h1_title": false,
   "title_cell": "Table of Contents",
   "title_sidebar": "Contents",
   "toc_cell": false,
   "toc_position": {},
   "toc_section_display": true,
   "toc_window_display": false
  },
  "varInspector": {
   "cols": {
    "lenName": 16,
    "lenType": 16,
    "lenVar": 40
   },
   "kernels_config": {
    "python": {
     "delete_cmd_postfix": "",
     "delete_cmd_prefix": "del ",
     "library": "var_list.py",
     "varRefreshCmd": "print(var_dic_list())"
    },
    "r": {
     "delete_cmd_postfix": ") ",
     "delete_cmd_prefix": "rm(",
     "library": "var_list.r",
     "varRefreshCmd": "cat(var_dic_list()) "
    }
   },
   "types_to_exclude": [
    "module",
    "function",
    "builtin_function_or_method",
    "instance",
    "_Feature"
   ],
   "window_display": false
  }
 },
 "nbformat": 4,
 "nbformat_minor": 5
}
