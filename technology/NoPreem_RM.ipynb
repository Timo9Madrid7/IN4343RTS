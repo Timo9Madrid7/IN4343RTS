{
 "cells": [
  {
   "cell_type": "code",
   "execution_count": 1,
   "id": "7e946627",
   "metadata": {},
   "outputs": [],
   "source": [
    "import numpy as np"
   ]
  },
  {
   "cell_type": "markdown",
   "id": "68cfcd68",
   "metadata": {},
   "source": [
    "# PPT演示$B_i$减了1"
   ]
  },
  {
   "cell_type": "code",
   "execution_count": 2,
   "id": "5baea7c0",
   "metadata": {},
   "outputs": [],
   "source": [
    "def Leveli(T, C):\n",
    "    assert len(T)  == len(C)\n",
    "    \n",
    "    n = len(T)\n",
    "    print(\"Task\\t\\t\", \"Blcking\\t\", \"Level-i busy\\t\", \"Number\")\n",
    "    for i in range(n):\n",
    "        if(i != n-1):\n",
    "            Bi = np.max(C[i+1:]-1)\n",
    "        else:\n",
    "            Bi = 0\n",
    "        Li = Bi + C[i]\n",
    "        temp = 0\n",
    "        while(1):\n",
    "            Li = Bi + np.sum(np.ceil(Li/T[:i+1])*C[:i+1])\n",
    "            if temp != Li:\n",
    "                temp = Li\n",
    "            else:\n",
    "                print(str(i+1)+\"\\t\\t\", str(Bi)+\"\\t\\t\", str(Li)+\"\\t\\t\", str(np.ceil(Li/T[i])))\n",
    "                break"
   ]
  },
  {
   "cell_type": "code",
   "execution_count": 3,
   "id": "0a546cae",
   "metadata": {},
   "outputs": [
    {
     "name": "stdout",
     "output_type": "stream",
     "text": [
      "Task\t\t Blcking\t Level-i busy\t Number\n",
      "1\t\t 2\t\t 5.0\t\t 1.0\n",
      "2\t\t 1\t\t 16.0\t\t 2.0\n",
      "3\t\t 1\t\t 23.0\t\t 1.0\n",
      "4\t\t 0\t\t 88.0\t\t 3.0\n"
     ]
    }
   ],
   "source": [
    "T = np.array([6, 8, 23, 30])\n",
    "C = np.array([3, 3, 1, 2])\n",
    "\n",
    "Leveli(T, C)"
   ]
  },
  {
   "cell_type": "markdown",
   "id": "5927d424",
   "metadata": {},
   "source": [
    "# 2017 考试卷$B_i$没有减一"
   ]
  },
  {
   "cell_type": "code",
   "execution_count": 4,
   "id": "4b90ca94",
   "metadata": {},
   "outputs": [],
   "source": [
    "def Leveli(T, C):\n",
    "    assert len(T)  == len(C)\n",
    "    \n",
    "    n = len(T)\n",
    "    print(\"Task\\t\\t\", \"Blcking\\t\", \"Level-i busy\\t\", \"Number\")\n",
    "    for i in range(n):\n",
    "        if(i != n-1):\n",
    "            Bi = np.max(C[i+1:])\n",
    "        else:\n",
    "            Bi = 0\n",
    "        Li = Bi + C[i]\n",
    "        temp = 0\n",
    "        while(1):\n",
    "            Li = Bi + np.sum(np.ceil(Li/T[:i+1])*C[:i+1])\n",
    "            if temp != Li:\n",
    "                temp = Li\n",
    "            else:\n",
    "                print(str(i+1)+\"\\t\\t\", str(Bi)+\"\\t\\t\", str(Li)+\"\\t\\t\", str(np.ceil(Li/T[i])))\n",
    "                break"
   ]
  },
  {
   "cell_type": "code",
   "execution_count": 5,
   "id": "93f74605",
   "metadata": {},
   "outputs": [
    {
     "name": "stdout",
     "output_type": "stream",
     "text": [
      "Task\t\t Blcking\t Level-i busy\t Number\n",
      "1\t\t 3\t\t 6.0\t\t 1.0\n",
      "2\t\t 2\t\t 23.0\t\t 3.0\n",
      "3\t\t 2\t\t 40.0\t\t 2.0\n",
      "4\t\t 0\t\t 88.0\t\t 3.0\n"
     ]
    }
   ],
   "source": [
    "# 与答案一致, 但是我觉得应该得减一.PPT和答案不一致, 害我笔算算了3遍, 哭了!\n",
    "T = np.array([6, 8, 23, 30])\n",
    "C = np.array([3, 3, 1, 2])\n",
    "\n",
    "Leveli(T, C)"
   ]
  },
  {
   "cell_type": "code",
   "execution_count": null,
   "id": "e2b8edd4",
   "metadata": {},
   "outputs": [],
   "source": []
  }
 ],
 "metadata": {
  "kernelspec": {
   "display_name": "Python 3",
   "language": "python",
   "name": "python3"
  },
  "language_info": {
   "codemirror_mode": {
    "name": "ipython",
    "version": 3
   },
   "file_extension": ".py",
   "mimetype": "text/x-python",
   "name": "python",
   "nbconvert_exporter": "python",
   "pygments_lexer": "ipython3",
   "version": "3.8.8"
  },
  "toc": {
   "base_numbering": 1,
   "nav_menu": {},
   "number_sections": true,
   "sideBar": true,
   "skip_h1_title": false,
   "title_cell": "Table of Contents",
   "title_sidebar": "Contents",
   "toc_cell": false,
   "toc_position": {},
   "toc_section_display": true,
   "toc_window_display": false
  },
  "varInspector": {
   "cols": {
    "lenName": 16,
    "lenType": 16,
    "lenVar": 40
   },
   "kernels_config": {
    "python": {
     "delete_cmd_postfix": "",
     "delete_cmd_prefix": "del ",
     "library": "var_list.py",
     "varRefreshCmd": "print(var_dic_list())"
    },
    "r": {
     "delete_cmd_postfix": ") ",
     "delete_cmd_prefix": "rm(",
     "library": "var_list.r",
     "varRefreshCmd": "cat(var_dic_list()) "
    }
   },
   "types_to_exclude": [
    "module",
    "function",
    "builtin_function_or_method",
    "instance",
    "_Feature"
   ],
   "window_display": false
  }
 },
 "nbformat": 4,
 "nbformat_minor": 5
}
