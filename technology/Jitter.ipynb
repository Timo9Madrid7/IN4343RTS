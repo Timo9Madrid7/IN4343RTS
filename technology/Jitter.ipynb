{
 "cells": [
  {
   "cell_type": "code",
   "execution_count": 1,
   "id": "5ead2ded",
   "metadata": {},
   "outputs": [],
   "source": [
    "import numpy as np"
   ]
  },
  {
   "cell_type": "markdown",
   "id": "29ee8a31",
   "metadata": {},
   "source": [
    "# Jitter"
   ]
  },
  {
   "cell_type": "code",
   "execution_count": 2,
   "id": "8454416c",
   "metadata": {},
   "outputs": [],
   "source": [
    "class Jitter:\n",
    "    def __init__(self, T, C, AJ=None):\n",
    "        assert len(T) == len(C)\n",
    "        self.T = T\n",
    "        self.C = C\n",
    "        if(np.any(AJ == None)):\n",
    "            self.AJ = np.zeros(len(T))\n",
    "        else:\n",
    "            assert len(T) == len(AJ)\n",
    "            self.AJ = AJ\n",
    "        self.n = len(T)\n",
    "        self.WR = np.zeros(self.n)\n",
    "        self.BR = np.zeros(self.n)\n",
    "        \n",
    "        \n",
    "    def WCRT(self):\n",
    "        for i in range(self.n):\n",
    "            x = C[i]\n",
    "            temp = 0\n",
    "            r = 0\n",
    "            print(\"--Task[\"+str(i+1)+']'+\" Iteration Start\")\n",
    "            \n",
    "            while(1):\n",
    "                print('WR'+str(i)+\"_\"+str(r), '=' , x)\n",
    "                x = C[i] + np.sum(np.ceil((x+self.AJ[:i])/T[:i])*C[:i])\n",
    "#                 sigma = 0\n",
    "#                 for j in range(i):\n",
    "#                     sigma += np.ceil((x+AJ[j])/T[j])*C[j]\n",
    "                r += 1\n",
    "                if(x != temp):\n",
    "                    temp = x\n",
    "                else:\n",
    "                    print('WR'+str(i)+\"_\"+str(r), '=' , x)\n",
    "                    print()\n",
    "                    self.WR[i] = x\n",
    "                    break\n",
    "                \n",
    "    def BCRT(self):\n",
    "        for i in range(self.n):\n",
    "            x = T[i]\n",
    "            temp = 0\n",
    "            r = 0\n",
    "            print(\"--Task[\"+str(i+1)+']'+\" Iteration Start--\")\n",
    "            \n",
    "            while(1):\n",
    "                print('BR'+str(i)+\"_\"+str(r), '=' , x)\n",
    "                x = C[i] + np.sum(np.ceil((x-self.AJ[:i])/T[:i] - 1)*C[:i])\n",
    "                r += 1\n",
    "                if(x != temp):\n",
    "                    temp = x\n",
    "                else:\n",
    "                    print('BR'+str(i)+\"_\"+str(r), '=' , x)\n",
    "                    print()\n",
    "                    self.BR[i] = x\n",
    "                    break\n",
    "    \n",
    "    def RJ(self):\n",
    "        if(np.all(self.WR == 0) or np.all(self.BR == 0)):\n",
    "            print(\"Error: should execute self.WCRT and self.BCRT before it\")\n",
    "        else:\n",
    "            print(\"A bound on response jitter:\", self.WR-self.BR)\n",
    "    \n",
    "    def FJ(self):\n",
    "        if(np.all(self.WR == 0) or np.all(self.BR == 0)):\n",
    "            print(\"Error: should execute self.WCRT and self.BCRT before it\")\n",
    "        else:\n",
    "            print(\"A bound on finalization jitter:\", self.AJ+self.WR-self.BR)\n",
    "            "
   ]
  },
  {
   "cell_type": "markdown",
   "id": "17336117",
   "metadata": {},
   "source": [
    "## Example"
   ]
  },
  {
   "cell_type": "code",
   "execution_count": 3,
   "id": "2a7d46bf",
   "metadata": {},
   "outputs": [
    {
     "name": "stdout",
     "output_type": "stream",
     "text": [
      "-Worst Case Response Time-\n",
      "--Task[1] Iteration Start\n",
      "WR0_0 = 3\n",
      "WR0_1 = 3.0\n",
      "WR0_2 = 3.0\n",
      "\n",
      "--Task[2] Iteration Start\n",
      "WR1_0 = 11\n",
      "WR1_1 = 17.0\n",
      "WR1_2 = 17.0\n",
      "\n",
      "--Task[3] Iteration Start\n",
      "WR2_0 = 5\n",
      "WR2_1 = 19.0\n",
      "WR2_2 = 22.0\n",
      "WR2_3 = 36.0\n",
      "WR2_4 = 39.0\n",
      "WR2_5 = 50.0\n",
      "WR2_6 = 53.0\n",
      "WR2_7 = 56.0\n",
      "WR2_8 = 56.0\n",
      "\n",
      "-Best Case Response Time-\n",
      "--Task[1] Iteration Start--\n",
      "BR0_0 = 10\n",
      "BR0_1 = 3.0\n",
      "BR0_2 = 3.0\n",
      "\n",
      "--Task[2] Iteration Start--\n",
      "BR1_0 = 19\n",
      "BR1_1 = 14.0\n",
      "BR1_2 = 14.0\n",
      "\n",
      "--Task[3] Iteration Start--\n",
      "BR2_0 = 56\n",
      "BR2_1 = 42.0\n",
      "BR2_2 = 39.0\n",
      "BR2_3 = 36.0\n",
      "BR2_4 = 25.0\n",
      "BR2_5 = 22.0\n",
      "BR2_6 = 22.0\n",
      "\n",
      "-Response Jitter-\n",
      "A bound on response jitter: [ 0.  3. 34.]\n"
     ]
    }
   ],
   "source": [
    "# example 1\n",
    "T = np.array([10, 19, 56])\n",
    "C = np.array([3, 11, 5])\n",
    "set1 = Jitter(T, C)\n",
    "print(\"-Worst Case Response Time-\")\n",
    "set1.WCRT()\n",
    "print(\"-Best Case Response Time-\")\n",
    "set1.BCRT()\n",
    "print(\"-Response Jitter-\")\n",
    "set1.RJ()\n",
    "\n",
    "# # example 2\n",
    "# T = np.array([4, 6, 20])\n",
    "# C = np.array([1, 3, 3])\n",
    "# set2 = Jitter(T, C)\n",
    "# print(\"-Worst Case Response Time-\")\n",
    "# set2.WCRT()\n",
    "# print(\"-Best Case Response Time-\")\n",
    "# set2.BCRT()"
   ]
  },
  {
   "cell_type": "code",
   "execution_count": 4,
   "id": "f7376012",
   "metadata": {},
   "outputs": [
    {
     "name": "stdout",
     "output_type": "stream",
     "text": [
      "--Task[1] Iteration Start\n",
      "WR0_0 = 3\n",
      "WR0_1 = 3.0\n",
      "WR0_2 = 3.0\n",
      "\n",
      "--Task[2] Iteration Start\n",
      "WR1_0 = 11\n",
      "WR1_1 = 17.0\n",
      "WR1_2 = 20.0\n",
      "WR1_3 = 20.0\n",
      "\n",
      "--Task[1] Iteration Start--\n",
      "BR0_0 = 9\n",
      "BR0_1 = 3.0\n",
      "BR0_2 = 3.0\n",
      "\n",
      "--Task[2] Iteration Start--\n",
      "BR1_0 = 38\n",
      "BR1_1 = 20.0\n",
      "BR1_2 = 14.0\n",
      "BR1_3 = 14.0\n",
      "\n",
      "A bound on response jitter: [0. 6.]\n",
      "A bound on finalization jitter: [ 4. 13.]\n"
     ]
    }
   ],
   "source": [
    "# example 3\n",
    "T = np.array([9, 38])\n",
    "C = np.array([3, 11])\n",
    "AJ = np.array([4, 7])\n",
    "\n",
    "set3 = Jitter(T, C, AJ=AJ)\n",
    "set3.WCRT()\n",
    "set3.BCRT()\n",
    "set3.RJ()\n",
    "set3.FJ()"
   ]
  },
  {
   "cell_type": "code",
   "execution_count": 5,
   "id": "4b17e6f0",
   "metadata": {},
   "outputs": [
    {
     "name": "stdout",
     "output_type": "stream",
     "text": [
      "--Task[1] Iteration Start\n",
      "WR0_0 = 1\n",
      "WR0_1 = 1.0\n",
      "WR0_2 = 1.0\n",
      "\n",
      "--Task[2] Iteration Start\n",
      "WR1_0 = 3\n",
      "WR1_1 = 4.0\n",
      "WR1_2 = 5.0\n",
      "WR1_3 = 5.0\n",
      "\n",
      "--Task[3] Iteration Start\n",
      "WR2_0 = 3\n",
      "WR2_1 = 7.0\n",
      "WR2_2 = 11.0\n",
      "WR2_3 = 12.0\n",
      "WR2_4 = 16.0\n",
      "WR2_5 = 17.0\n",
      "WR2_6 = 17.0\n",
      "\n",
      "--Task[1] Iteration Start--\n",
      "BR0_0 = 4\n",
      "BR0_1 = 1.0\n",
      "BR0_2 = 1.0\n",
      "\n",
      "--Task[2] Iteration Start--\n",
      "BR1_0 = 6\n",
      "BR1_1 = 4.0\n",
      "BR1_2 = 3.0\n",
      "BR1_3 = 3.0\n",
      "\n",
      "--Task[3] Iteration Start--\n",
      "BR2_0 = 20\n",
      "BR2_1 = 16.0\n",
      "BR2_2 = 12.0\n",
      "BR2_3 = 8.0\n",
      "BR2_4 = 7.0\n",
      "BR2_5 = 4.0\n",
      "BR2_6 = 3.0\n",
      "BR2_7 = 3.0\n",
      "\n"
     ]
    }
   ],
   "source": [
    "# example 4\n",
    "C = np.array([1, 3, 3])\n",
    "T = np.array([4, 6, 20])\n",
    "AJ = np.array([1, 1, 2])\n",
    "\n",
    "set4 = Jitter(T, C, AJ=AJ)\n",
    "set4.WCRT()\n",
    "set4.BCRT()"
   ]
  },
  {
   "cell_type": "code",
   "execution_count": 6,
   "id": "798cd843",
   "metadata": {},
   "outputs": [
    {
     "name": "stdout",
     "output_type": "stream",
     "text": [
      "A bound on response jitter: [ 0.  2. 14.]\n",
      "A bound on finalization jitter: [ 1.  3. 16.]\n"
     ]
    }
   ],
   "source": [
    "set4.RJ()\n",
    "set4.FJ()"
   ]
  },
  {
   "cell_type": "markdown",
   "id": "a22219bf",
   "metadata": {},
   "source": [
    "## Your test here"
   ]
  },
  {
   "cell_type": "code",
   "execution_count": null,
   "id": "3d7d0bc1",
   "metadata": {},
   "outputs": [],
   "source": []
  }
 ],
 "metadata": {
  "kernelspec": {
   "display_name": "Python 3",
   "language": "python",
   "name": "python3"
  },
  "language_info": {
   "codemirror_mode": {
    "name": "ipython",
    "version": 3
   },
   "file_extension": ".py",
   "mimetype": "text/x-python",
   "name": "python",
   "nbconvert_exporter": "python",
   "pygments_lexer": "ipython3",
   "version": "3.8.8"
  },
  "toc": {
   "base_numbering": 1,
   "nav_menu": {},
   "number_sections": true,
   "sideBar": true,
   "skip_h1_title": false,
   "title_cell": "Table of Contents",
   "title_sidebar": "Contents",
   "toc_cell": false,
   "toc_position": {},
   "toc_section_display": true,
   "toc_window_display": false
  },
  "varInspector": {
   "cols": {
    "lenName": 16,
    "lenType": 16,
    "lenVar": 40
   },
   "kernels_config": {
    "python": {
     "delete_cmd_postfix": "",
     "delete_cmd_prefix": "del ",
     "library": "var_list.py",
     "varRefreshCmd": "print(var_dic_list())"
    },
    "r": {
     "delete_cmd_postfix": ") ",
     "delete_cmd_prefix": "rm(",
     "library": "var_list.r",
     "varRefreshCmd": "cat(var_dic_list()) "
    }
   },
   "types_to_exclude": [
    "module",
    "function",
    "builtin_function_or_method",
    "instance",
    "_Feature"
   ],
   "window_display": false
  }
 },
 "nbformat": 4,
 "nbformat_minor": 5
}
