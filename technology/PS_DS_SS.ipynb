{
 "cells": [
  {
   "cell_type": "code",
   "execution_count": 1,
   "id": "241ec420",
   "metadata": {},
   "outputs": [],
   "source": [
    "import numpy as np"
   ]
  },
  {
   "attachments": {},
   "cell_type": "markdown",
   "id": "67b82674",
   "metadata": {},
   "source": [
    "# Polling Server (PS)\n",
    "![image.png](https://raw.githubusercontent.com/Timo9Madrid7/IN4343RTS/main/technology/images/PS.png?token=AI4N4MXCARBHJHWNFDJ72HLANNI6K)"
   ]
  },
  {
   "cell_type": "code",
   "execution_count": 2,
   "id": "909c7479",
   "metadata": {},
   "outputs": [],
   "source": [
    "class PS:\n",
    "    def __init__(self, T, C, Ts, Cs):\n",
    "        assert len(T) == len(C)\n",
    "        self.T = T\n",
    "        self.C = C \n",
    "        self.n = len(T)\n",
    "        \n",
    "    def LL(self):\n",
    "        n = self.n \n",
    "        Us = Cs/Ts \n",
    "        Up = np.sum(C/T)\n",
    "        test = n*((2/(Us+1))**(1/n)-1)\n",
    "        print(\"Up =\",Up, \"<=\", test, \"?\", Up<=test)\n",
    "    \n",
    "    def HB(self):\n",
    "        n = self.n \n",
    "        Us = Cs/Ts \n",
    "        prod = np.prod(C/T+1)\n",
    "        test = 2/(Us+1)\n",
    "        print(\"prod =\",prod, \"<=\", test, \"?\", prod<=test)\n",
    "        \n",
    "    def WCRT(self):\n",
    "        for i in range(self.n):\n",
    "            Ri = T[i]\n",
    "            temp = 0\n",
    "            r = 0\n",
    "            print(\"--Task[\"+str(i+1)+']'+\" Iteration Start\")\n",
    "            \n",
    "            while(1):\n",
    "                print('R'+str(i)+\"_\"+str(r), '=' , Ri)\n",
    "                Ri = C[i] + np.ceil(Ri/Ts)*Cs + np.sum(np.ceil(Ri/T[:i])*C[:i])\n",
    "                r += 1\n",
    "                \n",
    "                if(Ri != temp):\n",
    "                    temp = Ri\n",
    "                else:\n",
    "                    print('R'+str(i)+\"_\"+str(r), '=' , Ri)\n",
    "                    print()\n",
    "                    break\n",
    "                \n",
    "    def UsUpper(self):\n",
    "        UsMax = (2 - np.prod(C/T+1)) / (np.prod(C/T+1))\n",
    "        print(\"Us_max = \", UsMax)\n",
    "    \n",
    "    def Aperiodic_Guarantee(self, ra, Ca, ddla, highest=True):\n",
    "        if(highest):\n",
    "            print(\"A sufficient & necessary test can be devised:\")\n",
    "            Delta = np.ceil(ra/Ts)*Ts-ra\n",
    "            F = np.ceil(Ca/Cs)-1\n",
    "            delta = Ca - F*Cs\n",
    "            Ra = Delta + F*Ts + delta\n",
    "            print(\"Ra = \", Ra, \"<=\", ddla, \"?\", Ra<=ddla)\n",
    "        else:\n",
    "            print(\"A sufficient-only test can be devised:\")\n",
    "            if(Ca <= Cs):\n",
    "                print(\"2Ts <= DDLa?\", 2*Ts <= ddla)\n",
    "            if(Ca > Cs):\n",
    "                print(\"Ts+np.ceil(Ca/Cs)Ts <= DDLa?\", Ts+np.ceil(Ca/Cs)*Ts <= ddla)"
   ]
  },
  {
   "cell_type": "markdown",
   "id": "a946e72d",
   "metadata": {},
   "source": [
    "## Example"
   ]
  },
  {
   "cell_type": "code",
   "execution_count": 3,
   "id": "e1c605d3",
   "metadata": {},
   "outputs": [],
   "source": [
    "# example 1\n",
    "C = np.array([1, 2])\n",
    "T = np.array([4, 6])\n",
    "Ts = 5\n",
    "Cs = 2\n",
    "set1 = PS(T, C, Ts, Cs)"
   ]
  },
  {
   "cell_type": "code",
   "execution_count": 4,
   "id": "39cfc2d3",
   "metadata": {},
   "outputs": [
    {
     "name": "stdout",
     "output_type": "stream",
     "text": [
      "A sufficient-only test can be devised:\n",
      "2Ts <= DDLa? False\n"
     ]
    }
   ],
   "source": [
    "# it is scheduable, but it cannot pass the sufficient-only test\n",
    "ra = 2\n",
    "Ca = 2\n",
    "ddla = 8\n",
    "set1.Aperiodic_Guarantee(ra, Ca, ddla, highest=False)"
   ]
  },
  {
   "cell_type": "code",
   "execution_count": 5,
   "id": "6ef51e2f",
   "metadata": {},
   "outputs": [],
   "source": [
    "# example 2\n",
    "C = np.array([2, 2])\n",
    "T = np.array([5, 10])\n",
    "Ts = 5\n",
    "Cs = 2\n",
    "set2 = PS(T, C, Ts, Cs)"
   ]
  },
  {
   "cell_type": "markdown",
   "id": "d061a42e",
   "metadata": {},
   "source": [
    "## Your test here"
   ]
  },
  {
   "cell_type": "code",
   "execution_count": null,
   "id": "add9e735",
   "metadata": {},
   "outputs": [],
   "source": []
  },
  {
   "attachments": {},
   "cell_type": "markdown",
   "id": "cbad0447",
   "metadata": {},
   "source": [
    "# Deferrable Server (DS)\n",
    "![image.png](https://raw.githubusercontent.com/Timo9Madrid7/IN4343RTS/main/technology/images/DS.png?token=AI4N4MQERLOMSO4T2Z2MX5DANNI74)"
   ]
  },
  {
   "cell_type": "code",
   "execution_count": 6,
   "id": "5cb0eddb",
   "metadata": {},
   "outputs": [],
   "source": [
    "class DS:\n",
    "    def __init__(self, T, C, Ts, Cs):\n",
    "        assert len(T) == len(C)\n",
    "        self.T = T\n",
    "        self.C = C \n",
    "        self.n = len(T)\n",
    "        \n",
    "    def LL(self):\n",
    "        n = self.n \n",
    "        Us = Cs/Ts \n",
    "        Up = np.sum(C/T)\n",
    "        test = n*( ((Us+2)/(2*Us+1))**(1/n) - 1 )\n",
    "        print(\"Up =\",Up, \"<=\", test, \"?\", Up<=test)\n",
    "    \n",
    "    def HB(self):\n",
    "        n = self.n \n",
    "        Us = Cs/Ts \n",
    "        prod = np.prod(C/T+1)\n",
    "        test = (Us+2)/(2*Us+1)\n",
    "        print(\"prod =\",prod, \"<=\", test, \"?\", prod<=test)\n",
    "        \n",
    "    def UsUpper(self):\n",
    "        UsMax = (2 - np.prod(C/T+1)) / (2*np.prod(C/T+1)-1)\n",
    "        print(\"Us_max = \", UsMax)\n",
    "        \n",
    "    def Aperiodic_Guarantee():\n",
    "        print(\"Please see slide_47 for more details\")"
   ]
  },
  {
   "cell_type": "markdown",
   "id": "4f0268c6",
   "metadata": {},
   "source": [
    "## Example"
   ]
  },
  {
   "cell_type": "code",
   "execution_count": null,
   "id": "fce96f2f",
   "metadata": {},
   "outputs": [],
   "source": []
  },
  {
   "cell_type": "markdown",
   "id": "508edab6",
   "metadata": {},
   "source": [
    "## Your test here"
   ]
  },
  {
   "cell_type": "code",
   "execution_count": null,
   "id": "dec65e25",
   "metadata": {},
   "outputs": [],
   "source": []
  },
  {
   "attachments": {},
   "cell_type": "markdown",
   "id": "d6d2ac0a",
   "metadata": {},
   "source": [
    "# Slack Stealer (SS)\n",
    "![image.png](https://raw.githubusercontent.com/Timo9Madrid7/IN4343RTS/main/technology/images/SS.png?token=AI4N4MW5IKBICW67ROJ6JLTANNI4Y)"
   ]
  },
  {
   "cell_type": "code",
   "execution_count": null,
   "id": "e234c386",
   "metadata": {},
   "outputs": [],
   "source": []
  }
 ],
 "metadata": {
  "kernelspec": {
   "display_name": "Python 3",
   "language": "python",
   "name": "python3"
  },
  "language_info": {
   "codemirror_mode": {
    "name": "ipython",
    "version": 3
   },
   "file_extension": ".py",
   "mimetype": "text/x-python",
   "name": "python",
   "nbconvert_exporter": "python",
   "pygments_lexer": "ipython3",
   "version": "3.8.8"
  },
  "toc": {
   "base_numbering": 1,
   "nav_menu": {},
   "number_sections": true,
   "sideBar": true,
   "skip_h1_title": false,
   "title_cell": "Table of Contents",
   "title_sidebar": "Contents",
   "toc_cell": false,
   "toc_position": {},
   "toc_section_display": true,
   "toc_window_display": false
  },
  "varInspector": {
   "cols": {
    "lenName": 16,
    "lenType": 16,
    "lenVar": 40
   },
   "kernels_config": {
    "python": {
     "delete_cmd_postfix": "",
     "delete_cmd_prefix": "del ",
     "library": "var_list.py",
     "varRefreshCmd": "print(var_dic_list())"
    },
    "r": {
     "delete_cmd_postfix": ") ",
     "delete_cmd_prefix": "rm(",
     "library": "var_list.r",
     "varRefreshCmd": "cat(var_dic_list()) "
    }
   },
   "types_to_exclude": [
    "module",
    "function",
    "builtin_function_or_method",
    "instance",
    "_Feature"
   ],
   "window_display": false
  }
 },
 "nbformat": 4,
 "nbformat_minor": 5
}
