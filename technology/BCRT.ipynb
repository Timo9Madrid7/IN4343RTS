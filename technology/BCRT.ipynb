{
 "cells": [
  {
   "cell_type": "code",
   "execution_count": 5,
   "metadata": {},
   "outputs": [],
   "source": [
    "import math\n",
    "\n",
    "C = [3,11,5]\n",
    "T = [10,19,56]\n",
    "BRtemp = T\n",
    "BR = C\n",
    "n = 0\n",
    "m = 0"
   ]
  },
  {
   "cell_type": "code",
   "execution_count": 6,
   "metadata": {},
   "outputs": [],
   "source": [
    "def calculate_BCRT(n):\n",
    "    result = C[n]\n",
    "    temp = 0\n",
    "    for j in range(0, n):\n",
    "        # print(T)\n",
    "        # print(str(n) + \":\" + str(j) + \":\" + str((round(T[n] / T[j]) - 1) * C[j]))\n",
    "        temp += (math.ceil(BRtemp[n] / T[j]) - 1) * C[j]\n",
    "        # print(\"temp:\" + str(temp))\n",
    "\n",
    "    result += temp\n",
    "    BRtemp[n] = result\n",
    "    # print(result)\n",
    "    return BRtemp[n]"
   ]
  },
  {
   "cell_type": "code",
   "execution_count": 7,
   "metadata": {},
   "outputs": [],
   "source": [
    "def get_BCRT(m):\n",
    "    a = 0\n",
    "    b = 0\n",
    "    BCRT = 0\n",
    "    a = calculate_BCRT(m)\n",
    "    print(\"still calculating...BCRT is \"+ str(a))\n",
    "    b = calculate_BCRT(m)\n",
    "    print(\"still calculating...BCRT is \"+ str(b))\n",
    "    if (a!=b):\n",
    "        get_BCRT(m)\n",
    "    else:\n",
    "        BCRT = b\n",
    "        print(\"result is:\" + str(BCRT))\n",
    "    return BCRT"
   ]
  },
  {
   "cell_type": "code",
   "execution_count": 8,
   "metadata": {},
   "outputs": [
    {
     "name": "stdout",
     "output_type": "stream",
     "text": [
      "still calculating...BCRT is 42\n",
      "still calculating...BCRT is 39\n",
      "still calculating...BCRT is 36\n",
      "still calculating...BCRT is 25\n",
      "still calculating...BCRT is 22\n",
      "still calculating...BCRT is 22\n",
      "result is:22\n"
     ]
    },
    {
     "data": {
      "text/plain": [
       "0"
      ]
     },
     "execution_count": 8,
     "metadata": {},
     "output_type": "execute_result"
    }
   ],
   "source": [
    "# 第几个的BCRT，task3就输入2.task4就输入3\n",
    "get_BCRT(2)"
   ]
  },
  {
   "cell_type": "code",
   "execution_count": null,
   "metadata": {},
   "outputs": [],
   "source": []
  }
 ],
 "metadata": {
  "kernelspec": {
   "display_name": "Python 3",
   "language": "python",
   "name": "python3"
  },
  "language_info": {
   "codemirror_mode": {
    "name": "ipython",
    "version": 3
   },
   "file_extension": ".py",
   "mimetype": "text/x-python",
   "name": "python",
   "nbconvert_exporter": "python",
   "pygments_lexer": "ipython3",
   "version": "3.8.3"
  }
 },
 "nbformat": 4,
 "nbformat_minor": 4
}
