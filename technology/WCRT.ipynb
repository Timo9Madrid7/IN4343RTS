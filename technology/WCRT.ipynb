{
 "cells": [
  {
   "cell_type": "code",
   "execution_count": 65,
   "metadata": {},
   "outputs": [],
   "source": [
    "import math\n",
    "\n",
    "C = [3,7,8]\n",
    "T = [6,18,24]\n",
    "WRtemp = [3,10,18]\n",
    "WR = C\n",
    "n = 0\n",
    "m = 0\n"
   ]
  },
  {
   "cell_type": "code",
   "execution_count": 66,
   "metadata": {},
   "outputs": [],
   "source": [
    "def calculate_WCRT(n):\n",
    "    result = C[n]\n",
    "    temp = 0\n",
    "    for j in range(0, n):\n",
    "        # print(T)\n",
    "        # print(str(n) + \":\" + str(j) + \":\" + str((round(T[n] / T[j])  ) * C[j]))\n",
    "        temp += (math.ceil(WRtemp[n] / T[j]) ) * C[j]\n",
    "        # print(\"temp:\" + str(temp))\n",
    "\n",
    "    result += temp\n",
    "    WRtemp[n] = result\n",
    "    return WRtemp[n]"
   ]
  },
  {
   "cell_type": "code",
   "execution_count": 67,
   "metadata": {},
   "outputs": [],
   "source": [
    "def get_WCRT(m):\n",
    "    a = 0\n",
    "    b = 0\n",
    "    WCRT = 0\n",
    "    a = calculate_WCRT(m)\n",
    "    print(\"still calculating...WCRT is \"+ str(a))\n",
    "    b = calculate_WCRT(m)\n",
    "    print(\"still calculating...WCRT is \"+ str(b))\n",
    "    if (a!=b):\n",
    "        get_WCRT(m)\n",
    "    else:\n",
    "        WCRT = b\n",
    "        print(\"result is:\" + str(WCRT))\n",
    "    return WCRT"
   ]
  },
  {
   "cell_type": "code",
   "execution_count": 68,
   "metadata": {},
   "outputs": [
    {
     "name": "stdout",
     "output_type": "stream",
     "text": [
      "24\n",
      "still calculating...WCRT is 24\n",
      "34\n",
      "still calculating...WCRT is 34\n",
      "40\n",
      "still calculating...WCRT is 40\n",
      "50\n",
      "still calculating...WCRT is 50\n",
      "56\n",
      "still calculating...WCRT is 56\n",
      "66\n",
      "still calculating...WCRT is 66\n",
      "69\n",
      "still calculating...WCRT is 69\n",
      "72\n",
      "still calculating...WCRT is 72\n",
      "72\n",
      "still calculating...WCRT is 72\n",
      "72\n",
      "still calculating...WCRT is 72\n",
      "result is:72\n"
     ]
    },
    {
     "data": {
      "text/plain": [
       "0"
      ]
     },
     "execution_count": 68,
     "metadata": {},
     "output_type": "execute_result"
    }
   ],
   "source": [
    "# 第几个的BCRT，task3就输入2.task4就输入3\n",
    "get_WCRT(2)"
   ]
  },
  {
   "cell_type": "code",
   "execution_count": null,
   "metadata": {},
   "outputs": [],
   "source": []
  },
  {
   "cell_type": "code",
   "execution_count": null,
   "metadata": {},
   "outputs": [],
   "source": []
  }
 ],
 "metadata": {
  "kernelspec": {
   "display_name": "Python 3",
   "language": "python",
   "name": "python3"
  },
  "language_info": {
   "codemirror_mode": {
    "name": "ipython",
    "version": 3
   },
   "file_extension": ".py",
   "mimetype": "text/x-python",
   "name": "python",
   "nbconvert_exporter": "python",
   "pygments_lexer": "ipython3",
   "version": "3.8.3"
  }
 },
 "nbformat": 4,
 "nbformat_minor": 4
}
